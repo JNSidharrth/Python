{
 "cells": [
  {
   "cell_type": "markdown",
   "metadata": {},
   "source": [
    "# Tic-Tac-Toe\n",
    "\n"
   ]
  },
  {
   "cell_type": "markdown",
   "metadata": {},
   "source": [
    "#### A simple game of tic tac toe ."
   ]
  },
  {
   "cell_type": "code",
   "execution_count": 19,
   "metadata": {},
   "outputs": [],
   "source": [
    "import random\n",
    "\n",
    "board = [0,1,2,\n",
    "         3,4,5,\n",
    "         6,7,8]\n",
    "\n",
    "def show():\n",
    "    print (board[0],\"|\",board[1],\"|\",board[2])\n",
    "    print (\"-----------\")\n",
    "    print (board[3],\"|\",board[4],\"|\",board[5])\n",
    "    print (\"-----------\")\n",
    "    print (board[6],\"|\",board[7],\"|\",board[8])\n",
    "    \n",
    "    while True:\n",
    "        input = int(input(\"enter the spot you want to mark\"))\n",
    "        \n",
    "        \n",
    "        if board[input]!='x'and board[input]!='o':\n",
    "            board[input]=\"x\"\n",
    "        \n",
    "        finding = True\n",
    "            \n",
    "        while finding:\n",
    "            \n",
    "            random.seed()\n",
    "            second_player = random.randint(0,8)\n",
    "        \n",
    "        if board[second_player]!='o'and board[second_player]!='x':\n",
    "                board[second_player]='o'\n",
    "            \n",
    "                \n",
    "        else:\n",
    "                print(\"Spot is already taken \")\n",
    "                \n",
    "    show()  \n",
    "    \n"
   ]
  },
  {
   "cell_type": "code",
   "execution_count": null,
   "metadata": {},
   "outputs": [],
   "source": []
  }
 ],
 "metadata": {
  "kernelspec": {
   "display_name": "Python 3",
   "language": "python",
   "name": "python3"
  },
  "language_info": {
   "codemirror_mode": {
    "name": "ipython",
    "version": 3
   },
   "file_extension": ".py",
   "mimetype": "text/x-python",
   "name": "python",
   "nbconvert_exporter": "python",
   "pygments_lexer": "ipython3",
   "version": "3.7.3"
  }
 },
 "nbformat": 4,
 "nbformat_minor": 2
}
